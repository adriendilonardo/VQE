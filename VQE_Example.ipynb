{
 "cells": [
  {
   "cell_type": "code",
   "execution_count": 1,
   "metadata": {},
   "outputs": [],
   "source": [
    "import pennylane as qml\n",
    "import numpy as np\n",
    "from VQE import *"
   ]
  },
  {
   "cell_type": "markdown",
   "metadata": {},
   "source": [
    "The purpose of the VQE is to find the ground state energy, $\\lambda$, of some system Hamiltonian, $H$, for example for some molecule or femionic system. This is done by optimising some parametrised state $|\\Psi(\\vec{\\theta})>$ such that we minimise the expectation value of $H$:\n",
    "\n",
    "$$\\lambda = \t\\frac{<\\Psi(\\vec{\\theta})|H|\\Psi(\\vec{\\theta})>}{<\\Psi(\\vec{\\theta})|\\Psi(\\vec{\\theta})>}$$\n",
    "\n",
    "Fortunately, our VQE handles all of this under the hood. All that is minimally required is a Hamiltonian specification (as a Pauli operator decomposition)"
   ]
  },
  {
   "cell_type": "markdown",
   "metadata": {},
   "source": [
    "Since the VQE relies on Hamiltonian decomposition in Pauli strings, we can specify the Hamiltonian as a list of tuple pairs, where each tuple contains a coefficient and a str description of the associated Pauli string: (Note that Identity operators must be included such that we can infer which operator acts on which qubit)"
   ]
  },
  {
   "cell_type": "code",
   "execution_count": 2,
   "metadata": {},
   "outputs": [],
   "source": [
    "# Constructing the Hamiltonian\n",
    "H = [(1, \"zi\"), (1, 'iz'), (0.5, 'xx')]\n",
    "# H = [(np.random.rand(), 'ixyz'[i]+'ixyz'[j]) for i in range(4) for j in range(4)]"
   ]
  },
  {
   "cell_type": "markdown",
   "metadata": {},
   "source": [
    "For the purposes of simulating physical systems, the VQE can also handle Hamiltonians generated from pennylane's molecular_hamiltonian function. Here, we generate the Hamiltonian for $\\textrm{He-H}^+$"
   ]
  },
  {
   "cell_type": "code",
   "execution_count": null,
   "metadata": {},
   "outputs": [],
   "source": [
    "# H, qubits = qml.qchem.molecular_hamiltonian(\n",
    "#     symbols=['He', 'H'], \n",
    "#     coordinates=np.array([[0.0, 0.0, 0.0], [1.0, 0.0, 0.0]]), \n",
    "#     charge=1\n",
    "# )"
   ]
  },
  {
   "cell_type": "markdown",
   "metadata": {},
   "source": [
    "To find the ground state, we simply feed our Hamiltonian into a VQE function. There are two choices:\n",
    "- VQE_HT(H, ...)\n",
    "    - Executes the VQE algorithm using a quantum circuit that CAN be executed on a physical device\n",
    "    - Uses Hadamard tests to evaluate expectation values\n",
    "- VQE_Sim(H, ...)\n",
    "    - Executes the VQE algorithm using a quantum circuit that CANNOT be executed on a physical device, however, is significantly faster\n",
    "    - Uses direct calculations on the state vector to evaluate expectation values\n",
    "\n",
    "Here, we will use VQE_Sim(...)"
   ]
  },
  {
   "cell_type": "code",
   "execution_count": null,
   "metadata": {},
   "outputs": [],
   "source": [
    "energy, state = VQE_Sim(H)"
   ]
  },
  {
   "cell_type": "code",
   "execution_count": null,
   "metadata": {},
   "outputs": [],
   "source": [
    "print(energy)\n",
    "print(state)"
   ]
  },
  {
   "cell_type": "markdown",
   "metadata": {},
   "source": [
    "We can verify the output by converting the original Hamiltonian into a matrix and computing the eigenvalues and eigenvectors:"
   ]
  },
  {
   "cell_type": "code",
   "execution_count": 3,
   "metadata": {},
   "outputs": [
    {
     "name": "stdout",
     "output_type": "stream",
     "text": [
      "Ground State Energy: -2.061553e+00\n",
      "Ground State:\n",
      "-1.22e-01 +0.00e+00j |00>   |  1.22e-01 exp(i*pi*1.000) |00>\n",
      "-0.00e+00 +0.00e+00j |01>   |  0.00e+00 exp(i*pi*1.000) |01>\n",
      "+0.00e+00 +0.00e+00j |10>   |  0.00e+00 exp(i*pi*0.000) |10>\n",
      "-9.93e-01 +0.00e+00j |11>   |  9.93e-01 exp(i*pi*1.000) |11>\n"
     ]
    }
   ],
   "source": [
    "#Print Answer\n",
    "operator_dict = {\n",
    "    'i': np.array([[1, 0], [0, 1]]),\n",
    "    'x': np.array([[0, 1], [1, 0]]),\n",
    "    'y': np.array([[0, -1j], [1j, 0]]),\n",
    "    'z': np.array([[1, 0], [0, -1]]),\n",
    "}\n",
    "\n",
    "def operator_str_to_matrix(operator_string):\n",
    "    op = operator_dict[operator_string[0].lower()]\n",
    "    for op_i in operator_string[1:]: \n",
    "        op = np.kron(op, operator_dict[op_i.lower()])\n",
    "    return op\n",
    "\n",
    "if isinstance(H, qml.ops.qubit.hamiltonian.Hamiltonian):\n",
    "    Ham = pennylane_ham_to_str_ham(H)\n",
    "else:\n",
    "    Ham = H\n",
    "\n",
    "HMat = sum([g*operator_str_to_matrix(opStr) for g, opStr in Ham])\n",
    "\n",
    "energies, states = np.linalg.eigh(HMat)\n",
    "\n",
    "pretty_print_results(energies[0], states[0])"
   ]
  },
  {
   "cell_type": "markdown",
   "metadata": {},
   "source": [
    "In the case we are doubtful that the algorithm is converging on the correct solution, we can supply additional arguments to the function which affect the optimisation:"
   ]
  },
  {
   "cell_type": "code",
   "execution_count": null,
   "metadata": {},
   "outputs": [],
   "source": [
    "energy, state = VQE_Sim(\n",
    "    Ham=H,\n",
    "    depth=3,\n",
    "    initial_params=[np.pi]*12,\n",
    "    optimisation_method=\"Nelder-Mead\",\n",
    "    pretty_print=True\n",
    ")"
   ]
  }
 ],
 "metadata": {
  "kernelspec": {
   "display_name": "base",
   "language": "python",
   "name": "python3"
  },
  "language_info": {
   "codemirror_mode": {
    "name": "ipython",
    "version": 3
   },
   "file_extension": ".py",
   "mimetype": "text/x-python",
   "name": "python",
   "nbconvert_exporter": "python",
   "pygments_lexer": "ipython3",
   "version": "3.9.12"
  }
 },
 "nbformat": 4,
 "nbformat_minor": 2
}
